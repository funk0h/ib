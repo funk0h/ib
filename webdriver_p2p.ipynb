{
 "cells": [
  {
   "cell_type": "code",
   "execution_count": 25,
   "metadata": {},
   "outputs": [],
   "source": [
    "from selenium import webdriver\n",
    "from selenium.webdriver.chrome.service import Service\n",
    "from selenium.webdriver.common.by import By\n",
    "from selenium.webdriver.common.keys import Keys\n",
    "from webdriver_manager.chrome import ChromeDriverManager\n",
    "import xlwings as xw\n",
    "import socket"
   ]
  },
  {
   "attachments": {},
   "cell_type": "markdown",
   "metadata": {},
   "source": [
    "#### Obtener nombre Host"
   ]
  },
  {
   "cell_type": "code",
   "execution_count": 26,
   "metadata": {},
   "outputs": [
    {
     "name": "stdout",
     "output_type": "stream",
     "text": [
      "lenovohb\n"
     ]
    }
   ],
   "source": [
    "print(socket.gethostname())"
   ]
  },
  {
   "attachments": {},
   "cell_type": "markdown",
   "metadata": {},
   "source": [
    "#### Abrir chrome"
   ]
  },
  {
   "cell_type": "code",
   "execution_count": 3,
   "metadata": {},
   "outputs": [],
   "source": [
    "driver = webdriver.Chrome(service=Service(ChromeDriverManager().install()))"
   ]
  },
  {
   "cell_type": "code",
   "execution_count": 4,
   "metadata": {},
   "outputs": [],
   "source": [
    "url = 'https://p2p.binance.com/es/trade/all-payments/USDT?fiat=BOB' \n",
    "driver.get(url)"
   ]
  },
  {
   "cell_type": "code",
   "execution_count": 5,
   "metadata": {},
   "outputs": [],
   "source": [
    "driver.maximize_window()"
   ]
  },
  {
   "attachments": {},
   "cell_type": "markdown",
   "metadata": {},
   "source": [
    "#### Cambiar la moneda base Fiat"
   ]
  },
  {
   "cell_type": "code",
   "execution_count": 6,
   "metadata": {},
   "outputs": [],
   "source": [
    "fiatbox = driver.find_element(By.XPATH, \"//div[@id='C2Cfiatfilter_searchbox_fiat']//div[@class=' css-uf3q7d']\")"
   ]
  },
  {
   "cell_type": "code",
   "execution_count": 7,
   "metadata": {},
   "outputs": [],
   "source": [
    "fiatbox.click()"
   ]
  },
  {
   "cell_type": "code",
   "execution_count": 8,
   "metadata": {},
   "outputs": [],
   "source": [
    "fiatinput = driver.find_element(By.XPATH, \"//div[@id='C2Cfiatfilter_searchbox_fiat']//input[@class='css-jl5e70']\")"
   ]
  },
  {
   "cell_type": "code",
   "execution_count": 9,
   "metadata": {},
   "outputs": [],
   "source": [
    "fiatinput.send_keys('USD')"
   ]
  },
  {
   "cell_type": "code",
   "execution_count": 10,
   "metadata": {},
   "outputs": [],
   "source": [
    "fiatinput.send_keys(Keys.ENTER)"
   ]
  },
  {
   "attachments": {},
   "cell_type": "markdown",
   "metadata": {},
   "source": [
    "#### Cambiar metodo de pago"
   ]
  },
  {
   "cell_type": "code",
   "execution_count": 1,
   "metadata": {},
   "outputs": [],
   "source": [
    "mpago_i = \"Wise\""
   ]
  },
  {
   "cell_type": "code",
   "execution_count": null,
   "metadata": {},
   "outputs": [],
   "source": [
    "mpagobox = driver.find_element(By.XPATH, \"//div[@id='C2Cpaymentfilter_searchbox_payment']//div[@class=' css-uf3q7d']\")"
   ]
  },
  {
   "cell_type": "code",
   "execution_count": null,
   "metadata": {},
   "outputs": [],
   "source": [
    "mpagobox.click()"
   ]
  },
  {
   "cell_type": "code",
   "execution_count": 13,
   "metadata": {},
   "outputs": [],
   "source": [
    "mpagoinput = driver.find_element(By.XPATH, \"//div[@id='C2Cpaymentfilter_searchbox_payment']//input[@class='css-jl5e70']\")"
   ]
  },
  {
   "cell_type": "code",
   "execution_count": 14,
   "metadata": {},
   "outputs": [],
   "source": [
    "mpagoinput.send_keys(mpago_i)\n"
   ]
  },
  {
   "cell_type": "code",
   "execution_count": 15,
   "metadata": {},
   "outputs": [],
   "source": [
    "mpagoinput.send_keys(Keys.ENTER)"
   ]
  },
  {
   "attachments": {},
   "cell_type": "markdown",
   "metadata": {},
   "source": [
    "#### 'Obtener Datos'"
   ]
  },
  {
   "cell_type": "code",
   "execution_count": 36,
   "metadata": {},
   "outputs": [],
   "source": [
    "i=3\n",
    "list_datos = []"
   ]
  },
  {
   "cell_type": "code",
   "execution_count": 10,
   "metadata": {},
   "outputs": [
    {
     "name": "stdout",
     "output_type": "stream",
     "text": [
      "[<selenium.webdriver.remote.webelement.WebElement (session=\"7e8be5b974466c8602f15e9dd5143246\", element=\"C4E86BDCD897840E0B9F8DC5B60E4E7D_element_137\")>, <selenium.webdriver.remote.webelement.WebElement (session=\"7e8be5b974466c8602f15e9dd5143246\", element=\"C4E86BDCD897840E0B9F8DC5B60E4E7D_element_138\")>, <selenium.webdriver.remote.webelement.WebElement (session=\"7e8be5b974466c8602f15e9dd5143246\", element=\"C4E86BDCD897840E0B9F8DC5B60E4E7D_element_139\")>, <selenium.webdriver.remote.webelement.WebElement (session=\"7e8be5b974466c8602f15e9dd5143246\", element=\"C4E86BDCD897840E0B9F8DC5B60E4E7D_element_140\")>, <selenium.webdriver.remote.webelement.WebElement (session=\"7e8be5b974466c8602f15e9dd5143246\", element=\"C4E86BDCD897840E0B9F8DC5B60E4E7D_element_141\")>, <selenium.webdriver.remote.webelement.WebElement (session=\"7e8be5b974466c8602f15e9dd5143246\", element=\"C4E86BDCD897840E0B9F8DC5B60E4E7D_element_142\")>, <selenium.webdriver.remote.webelement.WebElement (session=\"7e8be5b974466c8602f15e9dd5143246\", element=\"C4E86BDCD897840E0B9F8DC5B60E4E7D_element_143\")>, <selenium.webdriver.remote.webelement.WebElement (session=\"7e8be5b974466c8602f15e9dd5143246\", element=\"C4E86BDCD897840E0B9F8DC5B60E4E7D_element_144\")>, <selenium.webdriver.remote.webelement.WebElement (session=\"7e8be5b974466c8602f15e9dd5143246\", element=\"C4E86BDCD897840E0B9F8DC5B60E4E7D_element_145\")>, <selenium.webdriver.remote.webelement.WebElement (session=\"7e8be5b974466c8602f15e9dd5143246\", element=\"C4E86BDCD897840E0B9F8DC5B60E4E7D_element_146\")>]\n",
      "10\n"
     ]
    },
    {
     "data": {
      "text/plain": [
       "['leosolitario24']"
      ]
     },
     "execution_count": 10,
     "metadata": {},
     "output_type": "execute_result"
    }
   ],
   "source": [
    "# anunciante\n",
    "xpath = \"//div[@class='css-ovjtyv']//div[@class='css-1rhb69f']/a\"\n",
    "datos = driver.find_elements(By.XPATH, xpath)\n",
    "print(datos)\n",
    "print(len(datos))\n",
    "datos[i].text"
   ]
  },
  {
   "cell_type": "code",
   "execution_count": 11,
   "metadata": {},
   "outputs": [
    {
     "name": "stdout",
     "output_type": "stream",
     "text": [
      "[<selenium.webdriver.remote.webelement.WebElement (session=\"7e8be5b974466c8602f15e9dd5143246\", element=\"C4E86BDCD897840E0B9F8DC5B60E4E7D_element_147\")>, <selenium.webdriver.remote.webelement.WebElement (session=\"7e8be5b974466c8602f15e9dd5143246\", element=\"C4E86BDCD897840E0B9F8DC5B60E4E7D_element_148\")>, <selenium.webdriver.remote.webelement.WebElement (session=\"7e8be5b974466c8602f15e9dd5143246\", element=\"C4E86BDCD897840E0B9F8DC5B60E4E7D_element_149\")>, <selenium.webdriver.remote.webelement.WebElement (session=\"7e8be5b974466c8602f15e9dd5143246\", element=\"C4E86BDCD897840E0B9F8DC5B60E4E7D_element_150\")>, <selenium.webdriver.remote.webelement.WebElement (session=\"7e8be5b974466c8602f15e9dd5143246\", element=\"C4E86BDCD897840E0B9F8DC5B60E4E7D_element_151\")>, <selenium.webdriver.remote.webelement.WebElement (session=\"7e8be5b974466c8602f15e9dd5143246\", element=\"C4E86BDCD897840E0B9F8DC5B60E4E7D_element_152\")>, <selenium.webdriver.remote.webelement.WebElement (session=\"7e8be5b974466c8602f15e9dd5143246\", element=\"C4E86BDCD897840E0B9F8DC5B60E4E7D_element_153\")>, <selenium.webdriver.remote.webelement.WebElement (session=\"7e8be5b974466c8602f15e9dd5143246\", element=\"C4E86BDCD897840E0B9F8DC5B60E4E7D_element_154\")>, <selenium.webdriver.remote.webelement.WebElement (session=\"7e8be5b974466c8602f15e9dd5143246\", element=\"C4E86BDCD897840E0B9F8DC5B60E4E7D_element_155\")>, <selenium.webdriver.remote.webelement.WebElement (session=\"7e8be5b974466c8602f15e9dd5143246\", element=\"C4E86BDCD897840E0B9F8DC5B60E4E7D_element_156\")>]\n",
      "10\n"
     ]
    },
    {
     "data": {
      "text/plain": [
       "['leosolitario24', '580 órdenes']"
      ]
     },
     "execution_count": 11,
     "metadata": {},
     "output_type": "execute_result"
    }
   ],
   "source": [
    "# ordenes\n",
    "xpath = \"//div[@class='css-ovjtyv']//div[@class='css-1a0u4z7']\"\n",
    "datos = driver.find_elements(By.XPATH, xpath)\n",
    "print(datos)\n",
    "print(len(datos))\n",
    "datos[i].text"
   ]
  },
  {
   "cell_type": "code",
   "execution_count": 12,
   "metadata": {},
   "outputs": [
    {
     "name": "stdout",
     "output_type": "stream",
     "text": [
      "[<selenium.webdriver.remote.webelement.WebElement (session=\"7e8be5b974466c8602f15e9dd5143246\", element=\"C4E86BDCD897840E0B9F8DC5B60E4E7D_element_157\")>, <selenium.webdriver.remote.webelement.WebElement (session=\"7e8be5b974466c8602f15e9dd5143246\", element=\"C4E86BDCD897840E0B9F8DC5B60E4E7D_element_158\")>, <selenium.webdriver.remote.webelement.WebElement (session=\"7e8be5b974466c8602f15e9dd5143246\", element=\"C4E86BDCD897840E0B9F8DC5B60E4E7D_element_159\")>, <selenium.webdriver.remote.webelement.WebElement (session=\"7e8be5b974466c8602f15e9dd5143246\", element=\"C4E86BDCD897840E0B9F8DC5B60E4E7D_element_160\")>, <selenium.webdriver.remote.webelement.WebElement (session=\"7e8be5b974466c8602f15e9dd5143246\", element=\"C4E86BDCD897840E0B9F8DC5B60E4E7D_element_161\")>, <selenium.webdriver.remote.webelement.WebElement (session=\"7e8be5b974466c8602f15e9dd5143246\", element=\"C4E86BDCD897840E0B9F8DC5B60E4E7D_element_162\")>, <selenium.webdriver.remote.webelement.WebElement (session=\"7e8be5b974466c8602f15e9dd5143246\", element=\"C4E86BDCD897840E0B9F8DC5B60E4E7D_element_163\")>, <selenium.webdriver.remote.webelement.WebElement (session=\"7e8be5b974466c8602f15e9dd5143246\", element=\"C4E86BDCD897840E0B9F8DC5B60E4E7D_element_164\")>, <selenium.webdriver.remote.webelement.WebElement (session=\"7e8be5b974466c8602f15e9dd5143246\", element=\"C4E86BDCD897840E0B9F8DC5B60E4E7D_element_165\")>, <selenium.webdriver.remote.webelement.WebElement (session=\"7e8be5b974466c8602f15e9dd5143246\", element=\"C4E86BDCD897840E0B9F8DC5B60E4E7D_element_166\")>]\n",
      "10\n"
     ]
    },
    {
     "data": {
      "text/plain": [
       "['leosolitario24', '580 órdenes', '91.10% Completado']"
      ]
     },
     "execution_count": 12,
     "metadata": {},
     "output_type": "execute_result"
    }
   ],
   "source": [
    "# %completado\n",
    "xpath = \"//div[@class='css-ovjtyv']//div[@class='css-19crpgd']\"\n",
    "datos = driver.find_elements(By.XPATH, xpath)\n",
    "print(datos)\n",
    "print(len(datos))\n",
    "datos[i].text"
   ]
  },
  {
   "cell_type": "code",
   "execution_count": 13,
   "metadata": {},
   "outputs": [
    {
     "name": "stdout",
     "output_type": "stream",
     "text": [
      "[<selenium.webdriver.remote.webelement.WebElement (session=\"7e8be5b974466c8602f15e9dd5143246\", element=\"C4E86BDCD897840E0B9F8DC5B60E4E7D_element_167\")>, <selenium.webdriver.remote.webelement.WebElement (session=\"7e8be5b974466c8602f15e9dd5143246\", element=\"C4E86BDCD897840E0B9F8DC5B60E4E7D_element_168\")>, <selenium.webdriver.remote.webelement.WebElement (session=\"7e8be5b974466c8602f15e9dd5143246\", element=\"C4E86BDCD897840E0B9F8DC5B60E4E7D_element_169\")>, <selenium.webdriver.remote.webelement.WebElement (session=\"7e8be5b974466c8602f15e9dd5143246\", element=\"C4E86BDCD897840E0B9F8DC5B60E4E7D_element_170\")>, <selenium.webdriver.remote.webelement.WebElement (session=\"7e8be5b974466c8602f15e9dd5143246\", element=\"C4E86BDCD897840E0B9F8DC5B60E4E7D_element_171\")>, <selenium.webdriver.remote.webelement.WebElement (session=\"7e8be5b974466c8602f15e9dd5143246\", element=\"C4E86BDCD897840E0B9F8DC5B60E4E7D_element_172\")>, <selenium.webdriver.remote.webelement.WebElement (session=\"7e8be5b974466c8602f15e9dd5143246\", element=\"C4E86BDCD897840E0B9F8DC5B60E4E7D_element_173\")>, <selenium.webdriver.remote.webelement.WebElement (session=\"7e8be5b974466c8602f15e9dd5143246\", element=\"C4E86BDCD897840E0B9F8DC5B60E4E7D_element_174\")>, <selenium.webdriver.remote.webelement.WebElement (session=\"7e8be5b974466c8602f15e9dd5143246\", element=\"C4E86BDCD897840E0B9F8DC5B60E4E7D_element_175\")>, <selenium.webdriver.remote.webelement.WebElement (session=\"7e8be5b974466c8602f15e9dd5143246\", element=\"C4E86BDCD897840E0B9F8DC5B60E4E7D_element_176\")>]\n",
      "10\n"
     ]
    },
    {
     "data": {
      "text/plain": [
       "['leosolitario24', '580 órdenes', '91.10% Completado', '7.51']"
      ]
     },
     "execution_count": 13,
     "metadata": {},
     "output_type": "execute_result"
    }
   ],
   "source": [
    "# Precio\n",
    "xpath = \"//div[@class='css-ovjtyv']//div[@class='css-1m1f8hn']\"\n",
    "datos = driver.find_elements(By.XPATH, xpath)\n",
    "print(datos)\n",
    "print(len(datos))\n",
    "datos[i].text"
   ]
  },
  {
   "cell_type": "code",
   "execution_count": 14,
   "metadata": {},
   "outputs": [
    {
     "name": "stdout",
     "output_type": "stream",
     "text": [
      "[<selenium.webdriver.remote.webelement.WebElement (session=\"7e8be5b974466c8602f15e9dd5143246\", element=\"C4E86BDCD897840E0B9F8DC5B60E4E7D_element_177\")>, <selenium.webdriver.remote.webelement.WebElement (session=\"7e8be5b974466c8602f15e9dd5143246\", element=\"C4E86BDCD897840E0B9F8DC5B60E4E7D_element_178\")>, <selenium.webdriver.remote.webelement.WebElement (session=\"7e8be5b974466c8602f15e9dd5143246\", element=\"C4E86BDCD897840E0B9F8DC5B60E4E7D_element_179\")>, <selenium.webdriver.remote.webelement.WebElement (session=\"7e8be5b974466c8602f15e9dd5143246\", element=\"C4E86BDCD897840E0B9F8DC5B60E4E7D_element_180\")>, <selenium.webdriver.remote.webelement.WebElement (session=\"7e8be5b974466c8602f15e9dd5143246\", element=\"C4E86BDCD897840E0B9F8DC5B60E4E7D_element_181\")>, <selenium.webdriver.remote.webelement.WebElement (session=\"7e8be5b974466c8602f15e9dd5143246\", element=\"C4E86BDCD897840E0B9F8DC5B60E4E7D_element_182\")>, <selenium.webdriver.remote.webelement.WebElement (session=\"7e8be5b974466c8602f15e9dd5143246\", element=\"C4E86BDCD897840E0B9F8DC5B60E4E7D_element_183\")>, <selenium.webdriver.remote.webelement.WebElement (session=\"7e8be5b974466c8602f15e9dd5143246\", element=\"C4E86BDCD897840E0B9F8DC5B60E4E7D_element_184\")>, <selenium.webdriver.remote.webelement.WebElement (session=\"7e8be5b974466c8602f15e9dd5143246\", element=\"C4E86BDCD897840E0B9F8DC5B60E4E7D_element_185\")>, <selenium.webdriver.remote.webelement.WebElement (session=\"7e8be5b974466c8602f15e9dd5143246\", element=\"C4E86BDCD897840E0B9F8DC5B60E4E7D_element_186\")>]\n",
      "10\n"
     ]
    },
    {
     "data": {
      "text/plain": [
       "['leosolitario24', '580 órdenes', '91.10% Completado', '7.51', '74.09 USDT']"
      ]
     },
     "execution_count": 14,
     "metadata": {},
     "output_type": "execute_result"
    }
   ],
   "source": [
    "# Disponible\n",
    "xpath = \"//div[@class='css-ovjtyv']//div[@class='css-3v2ep2']//div[@class='css-vurnku']\"\n",
    "datos = driver.find_elements(By.XPATH, xpath)\n",
    "print(datos)\n",
    "print(len(datos))\n",
    "datos[i].text"
   ]
  },
  {
   "cell_type": "code",
   "execution_count": 15,
   "metadata": {},
   "outputs": [
    {
     "name": "stdout",
     "output_type": "stream",
     "text": [
      "[<selenium.webdriver.remote.webelement.WebElement (session=\"7e8be5b974466c8602f15e9dd5143246\", element=\"C4E86BDCD897840E0B9F8DC5B60E4E7D_element_187\")>, <selenium.webdriver.remote.webelement.WebElement (session=\"7e8be5b974466c8602f15e9dd5143246\", element=\"C4E86BDCD897840E0B9F8DC5B60E4E7D_element_188\")>, <selenium.webdriver.remote.webelement.WebElement (session=\"7e8be5b974466c8602f15e9dd5143246\", element=\"C4E86BDCD897840E0B9F8DC5B60E4E7D_element_189\")>, <selenium.webdriver.remote.webelement.WebElement (session=\"7e8be5b974466c8602f15e9dd5143246\", element=\"C4E86BDCD897840E0B9F8DC5B60E4E7D_element_190\")>, <selenium.webdriver.remote.webelement.WebElement (session=\"7e8be5b974466c8602f15e9dd5143246\", element=\"C4E86BDCD897840E0B9F8DC5B60E4E7D_element_191\")>, <selenium.webdriver.remote.webelement.WebElement (session=\"7e8be5b974466c8602f15e9dd5143246\", element=\"C4E86BDCD897840E0B9F8DC5B60E4E7D_element_192\")>, <selenium.webdriver.remote.webelement.WebElement (session=\"7e8be5b974466c8602f15e9dd5143246\", element=\"C4E86BDCD897840E0B9F8DC5B60E4E7D_element_193\")>, <selenium.webdriver.remote.webelement.WebElement (session=\"7e8be5b974466c8602f15e9dd5143246\", element=\"C4E86BDCD897840E0B9F8DC5B60E4E7D_element_194\")>, <selenium.webdriver.remote.webelement.WebElement (session=\"7e8be5b974466c8602f15e9dd5143246\", element=\"C4E86BDCD897840E0B9F8DC5B60E4E7D_element_195\")>, <selenium.webdriver.remote.webelement.WebElement (session=\"7e8be5b974466c8602f15e9dd5143246\", element=\"C4E86BDCD897840E0B9F8DC5B60E4E7D_element_196\")>, <selenium.webdriver.remote.webelement.WebElement (session=\"7e8be5b974466c8602f15e9dd5143246\", element=\"C4E86BDCD897840E0B9F8DC5B60E4E7D_element_197\")>, <selenium.webdriver.remote.webelement.WebElement (session=\"7e8be5b974466c8602f15e9dd5143246\", element=\"C4E86BDCD897840E0B9F8DC5B60E4E7D_element_198\")>, <selenium.webdriver.remote.webelement.WebElement (session=\"7e8be5b974466c8602f15e9dd5143246\", element=\"C4E86BDCD897840E0B9F8DC5B60E4E7D_element_199\")>, <selenium.webdriver.remote.webelement.WebElement (session=\"7e8be5b974466c8602f15e9dd5143246\", element=\"C4E86BDCD897840E0B9F8DC5B60E4E7D_element_200\")>, <selenium.webdriver.remote.webelement.WebElement (session=\"7e8be5b974466c8602f15e9dd5143246\", element=\"C4E86BDCD897840E0B9F8DC5B60E4E7D_element_201\")>, <selenium.webdriver.remote.webelement.WebElement (session=\"7e8be5b974466c8602f15e9dd5143246\", element=\"C4E86BDCD897840E0B9F8DC5B60E4E7D_element_202\")>, <selenium.webdriver.remote.webelement.WebElement (session=\"7e8be5b974466c8602f15e9dd5143246\", element=\"C4E86BDCD897840E0B9F8DC5B60E4E7D_element_203\")>, <selenium.webdriver.remote.webelement.WebElement (session=\"7e8be5b974466c8602f15e9dd5143246\", element=\"C4E86BDCD897840E0B9F8DC5B60E4E7D_element_204\")>, <selenium.webdriver.remote.webelement.WebElement (session=\"7e8be5b974466c8602f15e9dd5143246\", element=\"C4E86BDCD897840E0B9F8DC5B60E4E7D_element_205\")>, <selenium.webdriver.remote.webelement.WebElement (session=\"7e8be5b974466c8602f15e9dd5143246\", element=\"C4E86BDCD897840E0B9F8DC5B60E4E7D_element_206\")>]\n",
      "20\n"
     ]
    },
    {
     "data": {
      "text/plain": [
       "['leosolitario24',\n",
       " '580 órdenes',\n",
       " '91.10% Completado',\n",
       " '7.51',\n",
       " '74.09 USDT',\n",
       " 'Bs.',\n",
       " 'Bs.']"
      ]
     },
     "execution_count": 15,
     "metadata": {},
     "output_type": "execute_result"
    }
   ],
   "source": [
    "# Limite\n",
    "xpath = \"//div[@class='css-ovjtyv']//div[@class='css-16w8hmr']//div[@class='css-4cffwv']\"\n",
    "xpath = \"//div[@class='css-4cffwv']//div[@class='css-vurnku']\"\n",
    "datos = driver.find_elements(By.XPATH, xpath)\n",
    "print(datos)\n",
    "print(len(datos))\n",
    "datos[i].text\n",
    "datos[i+1].text"
   ]
  },
  {
   "cell_type": "code",
   "execution_count": 16,
   "metadata": {},
   "outputs": [
    {
     "data": {
      "text/plain": [
       "'Bs.'"
      ]
     },
     "execution_count": 16,
     "metadata": {},
     "output_type": "execute_result"
    }
   ],
   "source": [
    "datos[i].text"
   ]
  },
  {
   "cell_type": "code",
   "execution_count": 37,
   "metadata": {},
   "outputs": [
    {
     "name": "stdout",
     "output_type": "stream",
     "text": [
      "[<selenium.webdriver.remote.webelement.WebElement (session=\"b83bff0caf954f1795e4bfa06f0dd799\", element=\"ACF5A13C068AA9F5FCB9235C75CBF562_element_246\")>, <selenium.webdriver.remote.webelement.WebElement (session=\"b83bff0caf954f1795e4bfa06f0dd799\", element=\"ACF5A13C068AA9F5FCB9235C75CBF562_element_247\")>, <selenium.webdriver.remote.webelement.WebElement (session=\"b83bff0caf954f1795e4bfa06f0dd799\", element=\"ACF5A13C068AA9F5FCB9235C75CBF562_element_248\")>, <selenium.webdriver.remote.webelement.WebElement (session=\"b83bff0caf954f1795e4bfa06f0dd799\", element=\"ACF5A13C068AA9F5FCB9235C75CBF562_element_249\")>, <selenium.webdriver.remote.webelement.WebElement (session=\"b83bff0caf954f1795e4bfa06f0dd799\", element=\"ACF5A13C068AA9F5FCB9235C75CBF562_element_250\")>, <selenium.webdriver.remote.webelement.WebElement (session=\"b83bff0caf954f1795e4bfa06f0dd799\", element=\"ACF5A13C068AA9F5FCB9235C75CBF562_element_251\")>, <selenium.webdriver.remote.webelement.WebElement (session=\"b83bff0caf954f1795e4bfa06f0dd799\", element=\"ACF5A13C068AA9F5FCB9235C75CBF562_element_252\")>, <selenium.webdriver.remote.webelement.WebElement (session=\"b83bff0caf954f1795e4bfa06f0dd799\", element=\"ACF5A13C068AA9F5FCB9235C75CBF562_element_253\")>, <selenium.webdriver.remote.webelement.WebElement (session=\"b83bff0caf954f1795e4bfa06f0dd799\", element=\"ACF5A13C068AA9F5FCB9235C75CBF562_element_254\")>, <selenium.webdriver.remote.webelement.WebElement (session=\"b83bff0caf954f1795e4bfa06f0dd799\", element=\"ACF5A13C068AA9F5FCB9235C75CBF562_element_255\")>]\n",
      "10\n",
      "Banco de Credito\n",
      "Banco Nacional de Bo...\n",
      "Banco Economico\n",
      "Banco Ganadero\n",
      "Banco Mercantil Sant...\n"
     ]
    }
   ],
   "source": [
    "# Pago\n",
    "xpath = \"//div[@class='css-tlcbro']\"\n",
    "datos = driver.find_elements(By.XPATH, xpath)\n",
    "print(datos)\n",
    "print(len(datos))\n",
    "print(datos[i].text)\n"
   ]
  },
  {
   "attachments": {},
   "cell_type": "markdown",
   "metadata": {},
   "source": [
    "#### Leer y escrbir en excel"
   ]
  },
  {
   "cell_type": "code",
   "execution_count": 16,
   "metadata": {},
   "outputs": [
    {
     "data": {
      "text/plain": [
       "<Sheet [30_p2p.xlsx]Sheet1>"
      ]
     },
     "execution_count": 16,
     "metadata": {},
     "output_type": "execute_result"
    }
   ],
   "source": [
    "path = 'C:/Users/user/Documents/'\n",
    "file = '30_p2p.xlsx'\n",
    "wb = xw.Book(path+file)\n",
    "sheet = wb.sheets['Sheet1']\n",
    "sheet"
   ]
  },
  {
   "attachments": {},
   "cell_type": "markdown",
   "metadata": {},
   "source": [
    "##### Obtener lista de fiat y crypto"
   ]
  },
  {
   "cell_type": "code",
   "execution_count": 22,
   "metadata": {},
   "outputs": [
    {
     "data": {
      "text/plain": [
       "['BOB', 'USD', 'EUR']"
      ]
     },
     "execution_count": 22,
     "metadata": {},
     "output_type": "execute_result"
    }
   ],
   "source": [
    "fiat = sheet.range('A2:A10')\n",
    "list_fiat = fiat.options(ndim=1).value\n",
    "list_fiat = list(filter(None, list_fiat))\n",
    "list_fiat"
   ]
  },
  {
   "cell_type": "code",
   "execution_count": 22,
   "metadata": {},
   "outputs": [
    {
     "data": {
      "text/plain": [
       "['USDT', 'BTC', 'ETH']"
      ]
     },
     "execution_count": 22,
     "metadata": {},
     "output_type": "execute_result"
    }
   ],
   "source": [
    "range_crypto = sheet.range('B2:B4')\n",
    "list_crypto = range_crypto.options(ndim=1).value\n",
    "list_crypto"
   ]
  },
  {
   "cell_type": "code",
   "execution_count": 23,
   "metadata": {},
   "outputs": [
    {
     "data": {
      "text/plain": [
       "[['BOB', 'USD', 'EUR'], ['USDT', 'BTC', 'ETH']]"
      ]
     },
     "execution_count": 23,
     "metadata": {},
     "output_type": "execute_result"
    }
   ],
   "source": [
    "list_matrix = [list_fiat,list_crypto]\n",
    "list_matrix"
   ]
  },
  {
   "cell_type": "code",
   "execution_count": 24,
   "metadata": {},
   "outputs": [],
   "source": [
    "sheet.range('E3').value = list_matrix"
   ]
  },
  {
   "cell_type": "code",
   "execution_count": null,
   "metadata": {},
   "outputs": [],
   "source": []
  },
  {
   "attachments": {},
   "cell_type": "markdown",
   "metadata": {},
   "source": [
    "#### Cambiar de pagina (nextpage)"
   ]
  },
  {
   "cell_type": "code",
   "execution_count": 30,
   "metadata": {},
   "outputs": [
    {
     "data": {
      "text/plain": [
       "<selenium.webdriver.remote.webelement.WebElement (session=\"c543692833b978b3d2a6eee5ff979e45\", element=\"2AA83AD340C6D52CBE04B5F6F92A5C2A_element_121\")>"
      ]
     },
     "execution_count": 30,
     "metadata": {},
     "output_type": "execute_result"
    }
   ],
   "source": [
    "nextpage_button = driver.find_element(By.XPATH, \"//button[@id='next-page']\")\n",
    "nextpage_button"
   ]
  },
  {
   "cell_type": "code",
   "execution_count": 31,
   "metadata": {},
   "outputs": [],
   "source": [
    "nextpage_button.click()"
   ]
  },
  {
   "attachments": {},
   "cell_type": "markdown",
   "metadata": {},
   "source": [
<<<<<<< HEAD
=======
    "#### Cambiar metodo de pago"
   ]
  },
  {
   "cell_type": "code",
   "execution_count": 1,
   "metadata": {},
   "outputs": [
    {
     "ename": "NameError",
     "evalue": "name 'driver' is not defined",
     "output_type": "error",
     "traceback": [
      "\u001b[1;31m---------------------------------------------------------------------------\u001b[0m",
      "\u001b[1;31mNameError\u001b[0m                                 Traceback (most recent call last)",
      "Cell \u001b[1;32mIn[1], line 1\u001b[0m\n\u001b[1;32m----> 1\u001b[0m mpagobox \u001b[39m=\u001b[39m driver\u001b[39m.\u001b[39mfind_element(By\u001b[39m.\u001b[39mXPATH, \u001b[39m\"\u001b[39m\u001b[39m//div[@id=\u001b[39m\u001b[39m'\u001b[39m\u001b[39mC2Cfiatfilter_searchbox_fiat\u001b[39m\u001b[39m'\u001b[39m\u001b[39m]//div[@class=\u001b[39m\u001b[39m'\u001b[39m\u001b[39m css-uf3q7d\u001b[39m\u001b[39m'\u001b[39m\u001b[39m]\u001b[39m\u001b[39m\"\u001b[39m)\n\u001b[0;32m      2\u001b[0m mpagobox\u001b[39m.\u001b[39mclick()\n\u001b[0;32m      3\u001b[0m mpagoinput \u001b[39m=\u001b[39m driver\u001b[39m.\u001b[39mfind_element(By\u001b[39m.\u001b[39mXPATH, \u001b[39m\"\u001b[39m\u001b[39m//div[@id=\u001b[39m\u001b[39m'\u001b[39m\u001b[39mC2Cfiatfilter_searchbox_fiat\u001b[39m\u001b[39m'\u001b[39m\u001b[39m]//input[@class=\u001b[39m\u001b[39m'\u001b[39m\u001b[39mcss-jl5e70\u001b[39m\u001b[39m'\u001b[39m\u001b[39m]\u001b[39m\u001b[39m\"\u001b[39m)\n",
      "\u001b[1;31mNameError\u001b[0m: name 'driver' is not defined"
     ]
    }
   ],
   "source": [
    "mpago_i = \"Wise_\"\n",
    "mpagobox = driver.find_element(By.XPATH, \"//div[@id='C2Cfiatfilter_searchbox_fiat']//div[@class=' css-uf3q7d']\")\n",
    "mpagobox.click()\n",
    "mpagoinput = driver.find_element(By.XPATH, \"//div[@id='C2Cfiatfilter_searchbox_fiat']//input[@class='css-jl5e70']\")\n",
    "mpagoinput.send_keys(mpago_i)\n",
    "mpagoinput.send_keys(Keys.ENTER)"
   ]
  },
  {
   "attachments": {},
   "cell_type": "markdown",
   "metadata": {},
   "source": [
>>>>>>> 88689c4218c844afd72de5220a891da0f3c04085
    "#### Enlistar los datos de Métodos de Pago"
   ]
  },
  {
   "cell_type": "code",
   "execution_count": 98,
   "metadata": {},
   "outputs": [
    {
     "name": "stdout",
     "output_type": "stream",
     "text": [
      "Banco de Credito\n",
      "Banco Union\n",
      "Banco Ganadero\n",
      "Banco Mercantil Sant...\n",
      "Banco Economico\n"
     ]
    },
    {
     "data": {
      "text/plain": [
       "'Banco de Credito\\nBanco Union\\nBanco Ganadero\\nBanco Mercantil Sant...\\nBanco Economico'"
      ]
     },
     "execution_count": 98,
     "metadata": {},
     "output_type": "execute_result"
    }
   ],
   "source": [
    "print(datos[i].text)\n",
    "mpagos = datos[i].text\n",
    "mpagos"
   ]
  },
  {
   "cell_type": "code",
   "execution_count": 64,
   "metadata": {},
   "outputs": [],
   "source": [
    "list_mpagos = []"
   ]
  },
  {
   "cell_type": "code",
   "execution_count": 86,
   "metadata": {},
   "outputs": [
    {
     "data": {
      "text/plain": [
       "-1"
      ]
     },
     "execution_count": 86,
     "metadata": {},
     "output_type": "execute_result"
    }
   ],
   "source": [
    "index_fin = mpagos.find('\\n')\n",
    "index_fin"
   ]
  },
  {
   "cell_type": "code",
   "execution_count": 87,
   "metadata": {},
   "outputs": [
    {
     "data": {
      "text/plain": [
       "'Banco Mercantil Sant..'"
      ]
     },
     "execution_count": 87,
     "metadata": {},
     "output_type": "execute_result"
    }
   ],
   "source": [
    "\n",
    "pago_i = mpagos[0:index_fin]\n",
    "pago_i"
   ]
  },
  {
   "cell_type": "code",
   "execution_count": 88,
   "metadata": {},
   "outputs": [
    {
     "data": {
      "text/plain": [
       "['Banco de Credito',\n",
       " 'Banco Nacional de Bo...',\n",
       " 'Banco Economico',\n",
       " 'Banco Ganadero',\n",
       " 'Banco Mercantil Sant..',\n",
       " 'Banco Mercantil Sant..']"
      ]
     },
     "execution_count": 88,
     "metadata": {},
     "output_type": "execute_result"
    }
   ],
   "source": [
    "list_mpagos.append(pago_i)\n",
    "list_mpagos"
   ]
  },
  {
   "cell_type": "code",
   "execution_count": 89,
   "metadata": {},
   "outputs": [
    {
     "data": {
      "text/plain": [
       "'Banco Mercantil Sant...'"
      ]
     },
     "execution_count": 89,
     "metadata": {},
     "output_type": "execute_result"
    }
   ],
   "source": [
    "mpagos = mpagos[index_fin+1:len(mpagos)]\n",
    "mpagos"
   ]
  },
  {
   "cell_type": "code",
   "execution_count": 99,
   "metadata": {},
   "outputs": [
    {
     "data": {
      "text/plain": [
       "['Banco de Credito',\n",
       " 'Banco Union',\n",
       " 'Banco Ganadero',\n",
       " 'Banco Mercantil Sant...',\n",
       " 'Banco Economic',\n",
       " '',\n",
       " '',\n",
       " '',\n",
       " '',\n",
       " '']"
      ]
     },
     "execution_count": 99,
     "metadata": {},
     "output_type": "execute_result"
    }
   ],
   "source": [
    "list_mpagos=[]\n",
    "ultimo = False\n",
    "for i in range(0,10):\n",
    "    if ultimo == True:\n",
    "        list_mpagos.append('')\n",
    "    else:\n",
    "        index_fin = mpagos.find('\\n')\n",
    "        pago_i = mpagos[0:index_fin]\n",
    "        list_mpagos.append(pago_i)\n",
    "        if index_fin == -1:\n",
    "            mpagos = mpagos[index_fin+1:len(mpagos)+1]\n",
    "        else:\n",
    "            mpagos = mpagos[index_fin+1:len(mpagos)]\n",
    "    if index_fin == -1:\n",
    "        ultimo = True\n",
    "list_mpagos"
   ]
  },
  {
   "cell_type": "code",
   "execution_count": 100,
   "metadata": {},
   "outputs": [
    {
     "data": {
      "text/plain": [
       "['a',\n",
       " 'b',\n",
       " 'Banco de Credito',\n",
       " 'Banco Union',\n",
       " 'Banco Ganadero',\n",
       " 'Banco Mercantil Sant...',\n",
       " 'Banco Economic',\n",
       " '',\n",
       " '',\n",
       " '',\n",
       " '',\n",
       " '']"
      ]
     },
     "execution_count": 100,
     "metadata": {},
     "output_type": "execute_result"
    }
   ],
   "source": [
    "list_datos = ['a','b']\n",
    "list_datos + list_mpagos"
   ]
  },
  {
   "attachments": {},
   "cell_type": "markdown",
   "metadata": {},
   "source": []
  },
  {
   "cell_type": "code",
   "execution_count": null,
   "metadata": {},
   "outputs": [],
   "source": []
  }
 ],
 "metadata": {
  "kernelspec": {
   "display_name": "Python 3",
   "language": "python",
   "name": "python3"
  },
  "language_info": {
   "codemirror_mode": {
    "name": "ipython",
    "version": 3
   },
   "file_extension": ".py",
   "mimetype": "text/x-python",
   "name": "python",
   "nbconvert_exporter": "python",
   "pygments_lexer": "ipython3",
   "version": "3.11.3"
  },
  "orig_nbformat": 4
 },
 "nbformat": 4,
 "nbformat_minor": 2
}
