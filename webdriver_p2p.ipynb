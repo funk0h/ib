{
 "cells": [
  {
   "cell_type": "code",
   "execution_count": 47,
   "metadata": {},
   "outputs": [],
   "source": [
    "from selenium import webdriver\n",
    "from selenium.webdriver.chrome.service import Service\n",
    "from selenium.webdriver.common.by import By\n",
    "from selenium.webdriver.common.keys import Keys\n",
    "from webdriver_manager.chrome import ChromeDriverManager\n",
    "import xlwings as xw\n",
    "import socket"
   ]
  },
  {
   "attachments": {},
   "cell_type": "markdown",
   "metadata": {},
   "source": [
    "#### Obtener nombre Host"
   ]
  },
  {
   "cell_type": "code",
   "execution_count": 48,
   "metadata": {},
   "outputs": [
    {
     "name": "stdout",
     "output_type": "stream",
     "text": [
      "lenovohb\n"
     ]
    }
   ],
   "source": [
    "print(socket.gethostname())"
   ]
  },
  {
   "attachments": {},
   "cell_type": "markdown",
   "metadata": {},
   "source": [
    "#### Abrir chrome"
   ]
  },
  {
   "cell_type": "code",
   "execution_count": 49,
   "metadata": {},
   "outputs": [],
   "source": [
    "driver = webdriver.Chrome(service=Service(ChromeDriverManager().install()))"
   ]
  },
  {
   "cell_type": "code",
   "execution_count": 50,
   "metadata": {},
   "outputs": [],
   "source": [
    "url = 'https://p2p.binance.com/es/trade/all-payments/USDT?fiat=BOB' \n",
    "driver.get(url)"
   ]
  },
  {
   "cell_type": "code",
   "execution_count": 51,
   "metadata": {},
   "outputs": [],
   "source": [
    "driver.maximize_window()"
   ]
  },
  {
   "attachments": {},
   "cell_type": "markdown",
   "metadata": {},
   "source": [
    "#### Cambiar la moneda base Fiat"
   ]
  },
  {
   "cell_type": "code",
   "execution_count": 52,
   "metadata": {},
   "outputs": [],
   "source": [
    "fiatbox = driver.find_element(By.XPATH, \"//div[@id='C2Cfiatfilter_searchbox_fiat']//div[@class=' css-uf3q7d']\")"
   ]
  },
  {
   "cell_type": "code",
   "execution_count": 53,
   "metadata": {},
   "outputs": [],
   "source": [
    "fiatbox.click()"
   ]
  },
  {
   "cell_type": "code",
   "execution_count": 54,
   "metadata": {},
   "outputs": [],
   "source": [
    "fiatinput = driver.find_element(By.XPATH, \"//div[@id='C2Cfiatfilter_searchbox_fiat']//input[@class='css-jl5e70']\")"
   ]
  },
  {
   "cell_type": "code",
   "execution_count": 55,
   "metadata": {},
   "outputs": [],
   "source": [
    "fiatinput.send_keys('USD')"
   ]
  },
  {
   "cell_type": "code",
   "execution_count": 56,
   "metadata": {},
   "outputs": [],
   "source": [
    "fiatinput.send_keys(Keys.ENTER)"
   ]
  },
  {
   "attachments": {},
   "cell_type": "markdown",
   "metadata": {},
   "source": [
    "#### Cambiar metodo de pago"
   ]
  },
  {
   "cell_type": "code",
   "execution_count": 38,
   "metadata": {},
   "outputs": [],
   "source": [
    "mpago_i = \"Wise\""
   ]
  },
  {
   "cell_type": "code",
   "execution_count": 39,
   "metadata": {},
   "outputs": [],
   "source": [
    "mpagobox = driver.find_element(By.XPATH, \"//div[@id='C2Cpaymentfilter_searchbox_payment']//div[@class=' css-uf3q7d']\")"
   ]
  },
  {
   "cell_type": "code",
   "execution_count": 40,
   "metadata": {},
   "outputs": [],
   "source": [
    "mpagobox.click()"
   ]
  },
  {
   "cell_type": "code",
   "execution_count": 41,
   "metadata": {},
   "outputs": [],
   "source": [
    "mpagoinput = driver.find_element(By.XPATH, \"//div[@id='C2Cpaymentfilter_searchbox_payment']//input[@class='css-jl5e70']\")"
   ]
  },
  {
   "cell_type": "code",
   "execution_count": 42,
   "metadata": {},
   "outputs": [],
   "source": [
    "mpagoinput.send_keys(mpago_i)\n"
   ]
  },
  {
   "cell_type": "code",
   "execution_count": 43,
   "metadata": {},
   "outputs": [],
   "source": [
    "mpagoinput.send_keys(Keys.ENTER)"
   ]
  },
  {
   "attachments": {},
   "cell_type": "markdown",
   "metadata": {},
   "source": [
    "#### 'Obtener Datos'"
   ]
  },
  {
   "cell_type": "code",
   "execution_count": 129,
   "metadata": {},
   "outputs": [
    {
     "name": "stdout",
     "output_type": "stream",
     "text": [
      "len: 10\n"
     ]
    }
   ],
   "source": [
    "# numero de FILAS DE DATOS mostrados en binance, por hojas\n",
    "xpath_cantidad = \"//div[@class='css-1jb7fpj']\"\n",
    "datos = driver.find_elements(By.XPATH, xpath_cantidad)\n",
    "#print(datos[7].text)\n",
    "print('len: '+str(len(datos)))"
   ]
  },
  {
   "cell_type": "code",
   "execution_count": 126,
   "metadata": {},
   "outputs": [],
   "source": [
    "#xpaths POR COLUMNAS\n",
    "xpath_anunciante = \"//div[@class='css-1jb7fpj']\"\n",
    "xpath_ordenes = \"//div[@class='css-1a0u4z7']\"\n",
    "xpath_completado = \"//div[@class='css-19crpgd']\"\n",
    "xpath_precio = \"//div[@class='css-1m1f8hn']\"\n",
    "xpath_disponible = \"//div[@class='css-3v2ep2']//div[@class='css-vurnku']\"\n",
    "xpath_limites = \"//div[@class='css-4cffwv']\"\n",
    "xpath_pago = \"//div[@class='css-tlcbro']\"\n",
    "\n",
    "list_xpath = [xpath_anunciante,     #0\n",
    "                  xpath_ordenes,    #1\n",
    "                  xpath_completado, #2\n",
    "                  xpath_precio,     #3\n",
    "                  xpath_disponible, #4\n",
    "                  xpath_limites,    #5\n",
    "                  xpath_pago]       #6"
   ]
  },
  {
   "cell_type": "code",
   "execution_count": 128,
   "metadata": {},
   "outputs": [
    {
     "name": "stdout",
     "output_type": "stream",
     "text": [
      "[<selenium.webdriver.remote.webelement.WebElement (session=\"18e244828858d73bd7f2556e0d0746b3\", element=\"86B94781F57003DB107C774B105AB10F_element_1112\")>, <selenium.webdriver.remote.webelement.WebElement (session=\"18e244828858d73bd7f2556e0d0746b3\", element=\"86B94781F57003DB107C774B105AB10F_element_1119\")>, <selenium.webdriver.remote.webelement.WebElement (session=\"18e244828858d73bd7f2556e0d0746b3\", element=\"86B94781F57003DB107C774B105AB10F_element_1126\")>, <selenium.webdriver.remote.webelement.WebElement (session=\"18e244828858d73bd7f2556e0d0746b3\", element=\"86B94781F57003DB107C774B105AB10F_element_1443\")>, <selenium.webdriver.remote.webelement.WebElement (session=\"18e244828858d73bd7f2556e0d0746b3\", element=\"86B94781F57003DB107C774B105AB10F_element_1444\")>, <selenium.webdriver.remote.webelement.WebElement (session=\"18e244828858d73bd7f2556e0d0746b3\", element=\"86B94781F57003DB107C774B105AB10F_element_1445\")>, <selenium.webdriver.remote.webelement.WebElement (session=\"18e244828858d73bd7f2556e0d0746b3\", element=\"86B94781F57003DB107C774B105AB10F_element_1446\")>, <selenium.webdriver.remote.webelement.WebElement (session=\"18e244828858d73bd7f2556e0d0746b3\", element=\"86B94781F57003DB107C774B105AB10F_element_1447\")>, <selenium.webdriver.remote.webelement.WebElement (session=\"18e244828858d73bd7f2556e0d0746b3\", element=\"86B94781F57003DB107C774B105AB10F_element_1448\")>, <selenium.webdriver.remote.webelement.WebElement (session=\"18e244828858d73bd7f2556e0d0746b3\", element=\"86B94781F57003DB107C774B105AB10F_element_1449\")>]\n",
      "Banco Ganadero\n",
      "Banco Economico\n"
     ]
    }
   ],
   "source": [
    "#FILA a extraer\n",
    "i = 0\n",
    "#xpath a extrer\n",
    "ix = 6\n",
    "xpath_i = list_xpath[ix] #de 0 al total de la lista de xpaths (6)\n",
    "\n",
    "datos = driver.find_elements(By.XPATH, xpath_i)\n",
    "print(datos)\n",
    "print(datos[i].text) \n",
    "\n",
    "if ix == 5: #xpath_limites\n",
    "    print(datos[i+1].text) #en caso de limites"
   ]
  },
  {
   "attachments": {},
   "cell_type": "markdown",
   "metadata": {},
   "source": [
    "#### Leer y escrbir en excel"
   ]
  },
  {
   "cell_type": "code",
   "execution_count": 16,
   "metadata": {},
   "outputs": [
    {
     "data": {
      "text/plain": [
       "<Sheet [30_p2p.xlsx]Sheet1>"
      ]
     },
     "execution_count": 16,
     "metadata": {},
     "output_type": "execute_result"
    }
   ],
   "source": [
    "path = 'C:/Users/user/Documents/'\n",
    "file = '30_p2p.xlsx'\n",
    "wb = xw.Book(path+file)\n",
    "sheet = wb.sheets['Sheet1']\n",
    "sheet"
   ]
  },
  {
   "attachments": {},
   "cell_type": "markdown",
   "metadata": {},
   "source": [
    "##### Obtener lista de fiat y crypto"
   ]
  },
  {
   "cell_type": "code",
   "execution_count": 22,
   "metadata": {},
   "outputs": [
    {
     "data": {
      "text/plain": [
       "['BOB', 'USD', 'EUR']"
      ]
     },
     "execution_count": 22,
     "metadata": {},
     "output_type": "execute_result"
    }
   ],
   "source": [
    "fiat = sheet.range('A2:A10')\n",
    "list_fiat = fiat.options(ndim=1).value\n",
    "list_fiat = list(filter(None, list_fiat))\n",
    "list_fiat"
   ]
  },
  {
   "cell_type": "code",
   "execution_count": 22,
   "metadata": {},
   "outputs": [
    {
     "data": {
      "text/plain": [
       "['USDT', 'BTC', 'ETH']"
      ]
     },
     "execution_count": 22,
     "metadata": {},
     "output_type": "execute_result"
    }
   ],
   "source": [
    "range_crypto = sheet.range('B2:B4')\n",
    "list_crypto = range_crypto.options(ndim=1).value\n",
    "list_crypto"
   ]
  },
  {
   "cell_type": "code",
   "execution_count": 23,
   "metadata": {},
   "outputs": [
    {
     "data": {
      "text/plain": [
       "[['BOB', 'USD', 'EUR'], ['USDT', 'BTC', 'ETH']]"
      ]
     },
     "execution_count": 23,
     "metadata": {},
     "output_type": "execute_result"
    }
   ],
   "source": [
    "list_matrix = [list_fiat,list_crypto]\n",
    "list_matrix"
   ]
  },
  {
   "cell_type": "code",
   "execution_count": 24,
   "metadata": {},
   "outputs": [],
   "source": [
    "sheet.range('E3').value = list_matrix"
   ]
  },
  {
   "cell_type": "code",
   "execution_count": null,
   "metadata": {},
   "outputs": [],
   "source": []
  },
  {
   "attachments": {},
   "cell_type": "markdown",
   "metadata": {},
   "source": [
    "#### Cambiar de pagina (nextpage)"
   ]
  },
  {
   "cell_type": "code",
   "execution_count": 30,
   "metadata": {},
   "outputs": [
    {
     "data": {
      "text/plain": [
       "<selenium.webdriver.remote.webelement.WebElement (session=\"c543692833b978b3d2a6eee5ff979e45\", element=\"2AA83AD340C6D52CBE04B5F6F92A5C2A_element_121\")>"
      ]
     },
     "execution_count": 30,
     "metadata": {},
     "output_type": "execute_result"
    }
   ],
   "source": [
    "nextpage_button = driver.find_element(By.XPATH, \"//button[@id='next-page']\")\n",
    "nextpage_button"
   ]
  },
  {
   "cell_type": "code",
   "execution_count": 31,
   "metadata": {},
   "outputs": [],
   "source": [
    "nextpage_button.click()"
   ]
  },
  {
   "attachments": {},
   "cell_type": "markdown",
   "metadata": {},
   "source": [
    "#### Enlistar los datos de Métodos de Pago"
   ]
  },
  {
   "cell_type": "code",
   "execution_count": 98,
   "metadata": {},
   "outputs": [
    {
     "name": "stdout",
     "output_type": "stream",
     "text": [
      "Banco de Credito\n",
      "Banco Union\n",
      "Banco Ganadero\n",
      "Banco Mercantil Sant...\n",
      "Banco Economico\n"
     ]
    },
    {
     "data": {
      "text/plain": [
       "'Banco de Credito\\nBanco Union\\nBanco Ganadero\\nBanco Mercantil Sant...\\nBanco Economico'"
      ]
     },
     "execution_count": 98,
     "metadata": {},
     "output_type": "execute_result"
    }
   ],
   "source": [
    "print(datos[i].text)\n",
    "mpagos = datos[i].text\n",
    "mpagos"
   ]
  },
  {
   "cell_type": "code",
   "execution_count": 64,
   "metadata": {},
   "outputs": [],
   "source": [
    "list_mpagos = []"
   ]
  },
  {
   "cell_type": "code",
   "execution_count": 86,
   "metadata": {},
   "outputs": [
    {
     "data": {
      "text/plain": [
       "-1"
      ]
     },
     "execution_count": 86,
     "metadata": {},
     "output_type": "execute_result"
    }
   ],
   "source": [
    "index_fin = mpagos.find('\\n')\n",
    "index_fin"
   ]
  },
  {
   "cell_type": "code",
   "execution_count": 87,
   "metadata": {},
   "outputs": [
    {
     "data": {
      "text/plain": [
       "'Banco Mercantil Sant..'"
      ]
     },
     "execution_count": 87,
     "metadata": {},
     "output_type": "execute_result"
    }
   ],
   "source": [
    "\n",
    "pago_i = mpagos[0:index_fin]\n",
    "pago_i"
   ]
  },
  {
   "cell_type": "code",
   "execution_count": 88,
   "metadata": {},
   "outputs": [
    {
     "data": {
      "text/plain": [
       "['Banco de Credito',\n",
       " 'Banco Nacional de Bo...',\n",
       " 'Banco Economico',\n",
       " 'Banco Ganadero',\n",
       " 'Banco Mercantil Sant..',\n",
       " 'Banco Mercantil Sant..']"
      ]
     },
     "execution_count": 88,
     "metadata": {},
     "output_type": "execute_result"
    }
   ],
   "source": [
    "list_mpagos.append(pago_i)\n",
    "list_mpagos"
   ]
  },
  {
   "cell_type": "code",
   "execution_count": 89,
   "metadata": {},
   "outputs": [
    {
     "data": {
      "text/plain": [
       "'Banco Mercantil Sant...'"
      ]
     },
     "execution_count": 89,
     "metadata": {},
     "output_type": "execute_result"
    }
   ],
   "source": [
    "mpagos = mpagos[index_fin+1:len(mpagos)]\n",
    "mpagos"
   ]
  },
  {
   "cell_type": "code",
   "execution_count": 99,
   "metadata": {},
   "outputs": [
    {
     "data": {
      "text/plain": [
       "['Banco de Credito',\n",
       " 'Banco Union',\n",
       " 'Banco Ganadero',\n",
       " 'Banco Mercantil Sant...',\n",
       " 'Banco Economic',\n",
       " '',\n",
       " '',\n",
       " '',\n",
       " '',\n",
       " '']"
      ]
     },
     "execution_count": 99,
     "metadata": {},
     "output_type": "execute_result"
    }
   ],
   "source": [
    "list_mpagos=[]\n",
    "ultimo = False\n",
    "for i in range(0,10):\n",
    "    if ultimo == True:\n",
    "        list_mpagos.append('')\n",
    "    else:\n",
    "        index_fin = mpagos.find('\\n')\n",
    "        pago_i = mpagos[0:index_fin]\n",
    "        list_mpagos.append(pago_i)\n",
    "        if index_fin == -1:\n",
    "            mpagos = mpagos[index_fin+1:len(mpagos)+1]\n",
    "        else:\n",
    "            mpagos = mpagos[index_fin+1:len(mpagos)]\n",
    "    if index_fin == -1:\n",
    "        ultimo = True\n",
    "list_mpagos"
   ]
  },
  {
   "cell_type": "code",
   "execution_count": 100,
   "metadata": {},
   "outputs": [
    {
     "data": {
      "text/plain": [
       "['a',\n",
       " 'b',\n",
       " 'Banco de Credito',\n",
       " 'Banco Union',\n",
       " 'Banco Ganadero',\n",
       " 'Banco Mercantil Sant...',\n",
       " 'Banco Economic',\n",
       " '',\n",
       " '',\n",
       " '',\n",
       " '',\n",
       " '']"
      ]
     },
     "execution_count": 100,
     "metadata": {},
     "output_type": "execute_result"
    }
   ],
   "source": [
    "list_datos = ['a','b']\n",
    "list_datos + list_mpagos"
   ]
  },
  {
   "attachments": {},
   "cell_type": "markdown",
   "metadata": {},
   "source": []
  },
  {
   "cell_type": "code",
   "execution_count": null,
   "metadata": {},
   "outputs": [],
   "source": []
  }
 ],
 "metadata": {
  "kernelspec": {
   "display_name": "Python 3",
   "language": "python",
   "name": "python3"
  },
  "language_info": {
   "codemirror_mode": {
    "name": "ipython",
    "version": 3
   },
   "file_extension": ".py",
   "mimetype": "text/x-python",
   "name": "python",
   "nbconvert_exporter": "python",
   "pygments_lexer": "ipython3",
   "version": "3.11.3"
  },
  "orig_nbformat": 4
 },
 "nbformat": 4,
 "nbformat_minor": 2
}
